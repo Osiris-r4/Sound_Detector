{
 "cells": [
  {
   "cell_type": "code",
   "execution_count": 1,
   "metadata": {},
   "outputs": [],
   "source": [
    "from pydub import AudioSegment\n",
    "from pydub.playback import play\n",
    "from pydub import AudioSegment\n",
    "from pydub.playback import play\n",
    "import sys\n",
    "import os\n",
    "from pydub.utils import make_chunks\n",
    "import numpy as np\n",
    "from scipy.fftpack import fft\n",
    "import pandas as pd\n",
    "import matplotlib.pyplot as plt\n",
    "import glob\n",
    "import seaborn as sns\n",
    "\n",
    "from sklearn.tree import DecisionTreeClassifier\n",
    "from sklearn.ensemble import GradientBoostingClassifier, RandomForestClassifier\n",
    "from sklearn.datasets import make_regression\n",
    "from sklearn.model_selection import train_test_split\n",
    "import math\n",
    "from sklearn.metrics import mean_squared_error\n",
    "from sklearn.experimental import enable_hist_gradient_boosting  \n",
    "from sklearn.ensemble import HistGradientBoostingClassifier\n",
    "from sklearn.ensemble import ExtraTreesClassifier\n",
    "from sklearn.experimental import enable_hist_gradient_boosting  \n",
    "from sklearn.datasets import load_diabetes\n",
    "from sklearn.neighbors import KNeighborsClassifier\n",
    "from sklearn  import tree\n",
    "from sklearn.model_selection import GridSearchCV\n",
    "import pyaudio\n",
    "import wave\n",
    "from scipy.io import wavfile\n",
    "from sklearn import preprocessing"
   ]
  },
  {
   "cell_type": "code",
   "execution_count": 2,
   "metadata": {},
   "outputs": [
    {
     "name": "stdout",
     "output_type": "stream",
     "text": [
      "./audio/Thermomix_try.mp3\n",
      "./audio/aspiradora _try.mp3\n",
      "./audio/Lavadora_trybueno.mp3\n",
      "./audio/Silencio_try_bueno.mp3\n",
      "./audio/Cafe_try.mp3\n"
     ]
    }
   ],
   "source": [
    "folder_path = './audio'\n",
    "for filename in glob.glob(os.path.join(folder_path, '*.mp3')):\n",
    "    print (filename)"
   ]
  },
  {
   "cell_type": "code",
   "execution_count": 3,
   "metadata": {},
   "outputs": [],
   "source": [
    "def audioFeaturesFourie(audio):\n",
    "    array = audio.get_array_of_samples()\n",
    "    abs_four = np.abs(fft(array,n=754))\n",
    "    return abs_four"
   ]
  },
  {
   "cell_type": "markdown",
   "metadata": {},
   "source": [
    "## CAFE  - Grabado por yo"
   ]
  },
  {
   "cell_type": "code",
   "execution_count": 4,
   "metadata": {},
   "outputs": [],
   "source": [
    "cafe = AudioSegment.from_file(\"./audio/Cafe_try.mp3\")"
   ]
  },
  {
   "cell_type": "code",
   "execution_count": 5,
   "metadata": {},
   "outputs": [
    {
     "data": {
      "text/plain": [
       "594000"
      ]
     },
     "execution_count": 5,
     "metadata": {},
     "output_type": "execute_result"
    }
   ],
   "source": [
    "len(cafe)"
   ]
  },
  {
   "cell_type": "code",
   "execution_count": 6,
   "metadata": {},
   "outputs": [],
   "source": [
    "cafe_change_hz = cafe.set_frame_rate(16000)\n",
    "chunks=make_chunks(cafe_change_hz, 5000)\n",
    "cafe_tf = [audioFeaturesFourie(x) for x in chunks]\n"
   ]
  },
  {
   "cell_type": "code",
   "execution_count": 7,
   "metadata": {},
   "outputs": [
    {
     "data": {
      "text/plain": [
       "119"
      ]
     },
     "execution_count": 7,
     "metadata": {},
     "output_type": "execute_result"
    }
   ],
   "source": [
    "len(chunks)"
   ]
  },
  {
   "cell_type": "code",
   "execution_count": 8,
   "metadata": {},
   "outputs": [
    {
     "name": "stdout",
     "output_type": "stream",
     "text": [
      "754\n",
      "754\n"
     ]
    }
   ],
   "source": [
    "x = [len(e) for e in cafe_tf]\n",
    "print (min(x))\n",
    "print (max(x))"
   ]
  },
  {
   "cell_type": "markdown",
   "metadata": {},
   "source": [
    "## Cafe YOUTUBE"
   ]
  },
  {
   "cell_type": "code",
   "execution_count": 9,
   "metadata": {},
   "outputs": [],
   "source": [
    "#cafe_youtube = AudioSegment.from_file(\"./audio/cafenuevo.webm\")"
   ]
  },
  {
   "cell_type": "code",
   "execution_count": 10,
   "metadata": {},
   "outputs": [],
   "source": [
    "#cafe_youtbe = cafe_youtube.set_frame_rate(16000)\n",
    "#chunks=make_chunks(cafe_youtube, 10000)\n",
    "#cafe_tf_youtube = [audioFeaturesFourie(x) for x in chunks]\n"
   ]
  },
  {
   "cell_type": "markdown",
   "metadata": {},
   "source": [
    "## Lavadora "
   ]
  },
  {
   "cell_type": "code",
   "execution_count": 11,
   "metadata": {},
   "outputs": [],
   "source": [
    "lavadora = AudioSegment.from_mp3(\"./audio/Lavadora_trybueno.mp3\")\n"
   ]
  },
  {
   "cell_type": "code",
   "execution_count": 12,
   "metadata": {},
   "outputs": [],
   "source": [
    "lavadora_change_hz = lavadora.set_frame_rate(16000)\n",
    "chunks=make_chunks(lavadora_change_hz, 5000)\n",
    "lavadora_tf = [audioFeaturesFourie(x) for x in chunks]\n"
   ]
  },
  {
   "cell_type": "code",
   "execution_count": 13,
   "metadata": {},
   "outputs": [
    {
     "data": {
      "text/plain": [
       "286"
      ]
     },
     "execution_count": 13,
     "metadata": {},
     "output_type": "execute_result"
    }
   ],
   "source": [
    "len(lavadora_tf)"
   ]
  },
  {
   "cell_type": "code",
   "execution_count": 14,
   "metadata": {},
   "outputs": [
    {
     "name": "stdout",
     "output_type": "stream",
     "text": [
      "754\n",
      "754\n"
     ]
    }
   ],
   "source": [
    "lavadora_len = [len(e) for e in lavadora_tf]\n",
    "print (min(lavadora_len))\n",
    "print (max(lavadora_len))"
   ]
  },
  {
   "cell_type": "markdown",
   "metadata": {},
   "source": [
    "## Aspiradora"
   ]
  },
  {
   "cell_type": "code",
   "execution_count": 15,
   "metadata": {},
   "outputs": [],
   "source": [
    "aspiradora = AudioSegment.from_mp3(\"./audio/aspiradora _try.mp3\")\n"
   ]
  },
  {
   "cell_type": "code",
   "execution_count": 16,
   "metadata": {},
   "outputs": [],
   "source": [
    "aspiradora_change_hz = aspiradora.set_frame_rate(16000)\n",
    "chunks=make_chunks(aspiradora_change_hz, 5000)\n",
    "aspiradora_tf = [audioFeaturesFourie(x) for x in chunks]\n"
   ]
  },
  {
   "cell_type": "code",
   "execution_count": 17,
   "metadata": {},
   "outputs": [
    {
     "data": {
      "text/plain": [
       "224"
      ]
     },
     "execution_count": 17,
     "metadata": {},
     "output_type": "execute_result"
    }
   ],
   "source": [
    "len(aspiradora_tf)"
   ]
  },
  {
   "cell_type": "code",
   "execution_count": 18,
   "metadata": {},
   "outputs": [
    {
     "name": "stdout",
     "output_type": "stream",
     "text": [
      "754\n",
      "754\n"
     ]
    }
   ],
   "source": [
    "aspiradora_len = [len(e) for e in aspiradora_tf]\n",
    "print (min(aspiradora_len))\n",
    "print (max(aspiradora_len))"
   ]
  },
  {
   "cell_type": "markdown",
   "metadata": {},
   "source": [
    "## Silencio"
   ]
  },
  {
   "cell_type": "code",
   "execution_count": 19,
   "metadata": {},
   "outputs": [],
   "source": [
    "#silencio = AudioSegment.from_mp3(\"./audio/Silencio_try_bueno.mp3\")\n"
   ]
  },
  {
   "cell_type": "code",
   "execution_count": 20,
   "metadata": {},
   "outputs": [],
   "source": [
    "#silencio_change_hz = silencio.set_frame_rate(16000)\n",
    "#chunks=make_chunks(silencio_change_hz, 10000)\n",
    "#silencio_tf = [audioFeaturesFourie(x) for x in chunks]\n"
   ]
  },
  {
   "cell_type": "code",
   "execution_count": null,
   "metadata": {},
   "outputs": [],
   "source": []
  },
  {
   "cell_type": "code",
   "execution_count": 21,
   "metadata": {},
   "outputs": [],
   "source": [
    "#silencio_audio = [len(e) for e in silencio_tf]\n",
    "#print (min(silencio_audio))\n",
    "#print (max(silencio_audio))"
   ]
  },
  {
   "cell_type": "markdown",
   "metadata": {},
   "source": [
    "## Thermomix"
   ]
  },
  {
   "cell_type": "code",
   "execution_count": 22,
   "metadata": {},
   "outputs": [],
   "source": [
    "thermomix = AudioSegment.from_mp3(\"./audio/Thermomix_try.mp3\")\n"
   ]
  },
  {
   "cell_type": "code",
   "execution_count": 23,
   "metadata": {},
   "outputs": [],
   "source": [
    "thermomix_change_hz = thermomix.set_frame_rate(16000)\n",
    "chunks=make_chunks(thermomix_change_hz, 5000)\n",
    "thermomix_tf = [audioFeaturesFourie(x) for x in chunks]\n",
    "\n"
   ]
  },
  {
   "cell_type": "code",
   "execution_count": 24,
   "metadata": {},
   "outputs": [
    {
     "name": "stdout",
     "output_type": "stream",
     "text": [
      "754\n",
      "754\n"
     ]
    }
   ],
   "source": [
    "thermomix_len = [len(e) for e in thermomix_tf]\n",
    "print (min(thermomix_len))\n",
    "print (max(thermomix_len))"
   ]
  },
  {
   "cell_type": "markdown",
   "metadata": {},
   "source": [
    "## Noise "
   ]
  },
  {
   "cell_type": "code",
   "execution_count": 25,
   "metadata": {},
   "outputs": [],
   "source": [
    "#noise = AudioSegment.from_file(\"./audio/noise.webm\")"
   ]
  },
  {
   "cell_type": "code",
   "execution_count": 26,
   "metadata": {},
   "outputs": [],
   "source": [
    "#noise_change_hz = cafe.set_frame_rate(16000)\n",
    "#chunks=make_chunks(cafe_change_hz, 10000)\n",
    "#noise_tf = [audioFeaturesFourie(x) for x in chunks]\n"
   ]
  },
  {
   "cell_type": "markdown",
   "metadata": {},
   "source": [
    "## DATAFRAME"
   ]
  },
  {
   "cell_type": "code",
   "execution_count": 27,
   "metadata": {},
   "outputs": [],
   "source": [
    "Cafe = {\"Sound\": [a for a in cafe_tf], \"utensilio\": 1}\n",
    "Lavadora = {\"Sound\": [a for a in lavadora_tf], \"utensilio\": 2}\n",
    "Aspiradora = {\"Sound\": [a for a in aspiradora_tf], \"utensilio\": 3}\n",
    "#Silencio = {\"Sound\": [a for a in silencio_tf], \"utensilio\": \"silencio\"}\n",
    "Thermomix = {\"Sound\": [a for a in thermomix_tf], \"utensilio\": 4}\n",
    "#Noise = {\"Sound\": [a for a in noise_tf], \"utensilio\": 5}"
   ]
  },
  {
   "cell_type": "code",
   "execution_count": 28,
   "metadata": {},
   "outputs": [],
   "source": [
    "cafe = pd.DataFrame(Cafe)\n",
    "lavadora= pd.DataFrame(Lavadora)\n",
    "aspiradora= pd.DataFrame(Aspiradora)\n",
    "#silencio = pd.DataFrame(Silencio)\n",
    "thermomix = pd.DataFrame(Thermomix)\n",
    "#noise = pd.DataFrame(Noise)\n",
    "\n",
    "utensilio_df = pd.concat([cafe,lavadora,aspiradora,thermomix]).reset_index(drop=True)"
   ]
  },
  {
   "cell_type": "code",
   "execution_count": 32,
   "metadata": {},
   "outputs": [
    {
     "data": {
      "text/html": [
       "<div>\n",
       "<style scoped>\n",
       "    .dataframe tbody tr th:only-of-type {\n",
       "        vertical-align: middle;\n",
       "    }\n",
       "\n",
       "    .dataframe tbody tr th {\n",
       "        vertical-align: top;\n",
       "    }\n",
       "\n",
       "    .dataframe thead th {\n",
       "        text-align: right;\n",
       "    }\n",
       "</style>\n",
       "<table border=\"1\" class=\"dataframe\">\n",
       "  <thead>\n",
       "    <tr style=\"text-align: right;\">\n",
       "      <th></th>\n",
       "      <th>Sound</th>\n",
       "      <th>utensilio</th>\n",
       "    </tr>\n",
       "  </thead>\n",
       "  <tbody>\n",
       "    <tr>\n",
       "      <th>1</th>\n",
       "      <td>[28262.0, 58703.49170492042, 78102.49305648055...</td>\n",
       "      <td>1</td>\n",
       "    </tr>\n",
       "    <tr>\n",
       "      <th>2</th>\n",
       "      <td>[13372.0, 18528.29273036513, 40266.15140566347...</td>\n",
       "      <td>1</td>\n",
       "    </tr>\n",
       "    <tr>\n",
       "      <th>3</th>\n",
       "      <td>[5078.0, 22508.13354036519, 103103.5611752719,...</td>\n",
       "      <td>1</td>\n",
       "    </tr>\n",
       "    <tr>\n",
       "      <th>4</th>\n",
       "      <td>[9118.0, 10588.267422382374, 93019.23679810263...</td>\n",
       "      <td>1</td>\n",
       "    </tr>\n",
       "    <tr>\n",
       "      <th>5</th>\n",
       "      <td>[26708.0, 39074.519672006216, 85224.9938993064...</td>\n",
       "      <td>1</td>\n",
       "    </tr>\n",
       "    <tr>\n",
       "      <th>...</th>\n",
       "      <td>...</td>\n",
       "      <td>...</td>\n",
       "    </tr>\n",
       "    <tr>\n",
       "      <th>1345</th>\n",
       "      <td>[728.0, 14107.726926967309, 48757.04998568394,...</td>\n",
       "      <td>4</td>\n",
       "    </tr>\n",
       "    <tr>\n",
       "      <th>1346</th>\n",
       "      <td>[41388.0, 54228.72238224859, 67127.01871401152...</td>\n",
       "      <td>4</td>\n",
       "    </tr>\n",
       "    <tr>\n",
       "      <th>1347</th>\n",
       "      <td>[50830.0, 43895.81722538159, 48328.50853831116...</td>\n",
       "      <td>4</td>\n",
       "    </tr>\n",
       "    <tr>\n",
       "      <th>1348</th>\n",
       "      <td>[37788.0, 73655.9440831625, 52980.019689079956...</td>\n",
       "      <td>4</td>\n",
       "    </tr>\n",
       "    <tr>\n",
       "      <th>1349</th>\n",
       "      <td>[63468.0, 53335.60654251747, 125356.0509517678...</td>\n",
       "      <td>4</td>\n",
       "    </tr>\n",
       "  </tbody>\n",
       "</table>\n",
       "<p>1349 rows × 2 columns</p>\n",
       "</div>"
      ],
      "text/plain": [
       "                                                  Sound  utensilio\n",
       "1     [28262.0, 58703.49170492042, 78102.49305648055...          1\n",
       "2     [13372.0, 18528.29273036513, 40266.15140566347...          1\n",
       "3     [5078.0, 22508.13354036519, 103103.5611752719,...          1\n",
       "4     [9118.0, 10588.267422382374, 93019.23679810263...          1\n",
       "5     [26708.0, 39074.519672006216, 85224.9938993064...          1\n",
       "...                                                 ...        ...\n",
       "1345  [728.0, 14107.726926967309, 48757.04998568394,...          4\n",
       "1346  [41388.0, 54228.72238224859, 67127.01871401152...          4\n",
       "1347  [50830.0, 43895.81722538159, 48328.50853831116...          4\n",
       "1348  [37788.0, 73655.9440831625, 52980.019689079956...          4\n",
       "1349  [63468.0, 53335.60654251747, 125356.0509517678...          4\n",
       "\n",
       "[1349 rows x 2 columns]"
      ]
     },
     "execution_count": 32,
     "metadata": {},
     "output_type": "execute_result"
    }
   ],
   "source": [
    "utensilio_df[1:]\n"
   ]
  },
  {
   "cell_type": "code",
   "execution_count": 26,
   "metadata": {},
   "outputs": [],
   "source": [
    "utensilio_df.to_csv('./audio_transformed.csv')"
   ]
  },
  {
   "cell_type": "markdown",
   "metadata": {},
   "source": [
    "## Train Machine Learning "
   ]
  },
  {
   "cell_type": "code",
   "execution_count": 27,
   "metadata": {},
   "outputs": [],
   "source": [
    "X =np.concatenate((np.vstack(cafe.Sound),np.vstack(lavadora.Sound),np.vstack(aspiradora.Sound),np.vstack(thermomix.Sound)))\n"
   ]
  },
  {
   "cell_type": "code",
   "execution_count": 28,
   "metadata": {},
   "outputs": [],
   "source": [
    "y = np.concatenate((cafe.utensilio,lavadora.utensilio,aspiradora.utensilio,thermomix.utensilio))"
   ]
  },
  {
   "cell_type": "code",
   "execution_count": null,
   "metadata": {},
   "outputs": [],
   "source": []
  },
  {
   "cell_type": "code",
   "execution_count": 44,
   "metadata": {},
   "outputs": [
    {
     "name": "stdout",
     "output_type": "stream",
     "text": [
      "(1350, 754)\n",
      "(1350,)\n"
     ]
    }
   ],
   "source": [
    "# preguntar si esto esta bien, la y es el primer valor de cada uno.\n",
    "print (X.shape)\n",
    "print (y.shape)"
   ]
  },
  {
   "cell_type": "code",
   "execution_count": 45,
   "metadata": {},
   "outputs": [],
   "source": [
    "X_train, X_test, y_train, y_test = train_test_split(X, y, test_size=0.2, random_state=0)"
   ]
  },
  {
   "cell_type": "code",
   "execution_count": 46,
   "metadata": {},
   "outputs": [],
   "source": [
    "models = {\n",
    "   \"DecisionTreeRegressor\": DecisionTreeClassifier(),\n",
    "    \"RandomForest600\" : RandomForestClassifier(n_estimators = 600),\n",
    "    \"RandomForest\" : RandomForestClassifier(),\n",
    "    \"GradientBoosting\" : GradientBoostingClassifier(),\n",
    "    \"HistGradinetBoostingClass2\": HistGradientBoostingClassifier(),\n",
    "    \"ExtraTreeRegressor\": ExtraTreesClassifier(),\n",
    "   \"neigbor\":KNeighborsClassifier(),\n",
    "    \"tree\":tree.DecisionTreeClassifier()\n",
    "}"
   ]
  },
  {
   "cell_type": "code",
   "execution_count": 47,
   "metadata": {},
   "outputs": [
    {
     "name": "stdout",
     "output_type": "stream",
     "text": [
      "Training DecisionTreeRegressor\n",
      "Training RandomForest600\n",
      "Training RandomForest\n",
      "Training GradientBoosting\n",
      "Training HistGradinetBoostingClass2\n",
      "Training ExtraTreeRegressor\n",
      "Training neigbor\n",
      "Training tree\n",
      "He acabado :) \n"
     ]
    }
   ],
   "source": [
    "for name, model in models.items():\n",
    "    print(f\"Training {name}\")\n",
    "    model.fit(X_train,y_train)\n",
    "print(\"He acabado :) \")"
   ]
  },
  {
   "cell_type": "code",
   "execution_count": 48,
   "metadata": {},
   "outputs": [
    {
     "name": "stdout",
     "output_type": "stream",
     "text": [
      "Evaluating model DecisionTreeRegressor\n",
      "\t Accuracy: 0.911\n",
      "Evaluating model RandomForest600\n",
      "\t Accuracy: 0.959\n",
      "Evaluating model RandomForest\n",
      "\t Accuracy: 0.956\n",
      "Evaluating model GradientBoosting\n",
      "\t Accuracy: 0.959\n",
      "Evaluating model HistGradinetBoostingClass2\n",
      "\t Accuracy: 0.963\n",
      "Evaluating model ExtraTreeRegressor\n",
      "\t Accuracy: 0.97\n",
      "Evaluating model neigbor\n",
      "\t Accuracy: 0.948\n",
      "Evaluating model tree\n",
      "\t Accuracy: 0.907\n",
      "Train complete\n"
     ]
    }
   ],
   "source": [
    "from sklearn.metrics import accuracy_score, precision_score, recall_score, f1_score\n",
    "\n",
    "printMetric = lambda label,value:print(f\"\\t {label}: {round(value,3)}\")\n",
    "\n",
    "for name, model in models.items():\n",
    "    y_pred = model.predict(X_test)\n",
    "    print(f\"Evaluating model {name}\")\n",
    "    printMetric(\"Accuracy\",accuracy_score(y_test, y_pred))\n",
    "print(\"Train complete\")"
   ]
  },
  {
   "cell_type": "code",
   "execution_count": 49,
   "metadata": {},
   "outputs": [
    {
     "name": "stdout",
     "output_type": "stream",
     "text": [
      "MODEL -> DecisionTreeRegressor\n",
      "              precision    recall  f1-score   support\n",
      "\n",
      "           1       0.60      0.58      0.59        26\n",
      "           2       0.79      0.87      0.83        47\n",
      "           3       1.00      0.94      0.97        51\n",
      "           4       0.98      0.97      0.98       146\n",
      "\n",
      "    accuracy                           0.91       270\n",
      "   macro avg       0.84      0.84      0.84       270\n",
      "weighted avg       0.91      0.91      0.91       270\n",
      "\n",
      "MODEL -> RandomForest600\n",
      "              precision    recall  f1-score   support\n",
      "\n",
      "           1       1.00      0.58      0.73        26\n",
      "           2       0.81      1.00      0.90        47\n",
      "           3       1.00      1.00      1.00        51\n",
      "           4       1.00      1.00      1.00       146\n",
      "\n",
      "    accuracy                           0.96       270\n",
      "   macro avg       0.95      0.89      0.91       270\n",
      "weighted avg       0.97      0.96      0.96       270\n",
      "\n",
      "MODEL -> RandomForest\n",
      "              precision    recall  f1-score   support\n",
      "\n",
      "           1       1.00      0.54      0.70        26\n",
      "           2       0.80      1.00      0.89        47\n",
      "           3       1.00      1.00      1.00        51\n",
      "           4       1.00      1.00      1.00       146\n",
      "\n",
      "    accuracy                           0.96       270\n",
      "   macro avg       0.95      0.88      0.90       270\n",
      "weighted avg       0.96      0.96      0.95       270\n",
      "\n",
      "MODEL -> GradientBoosting\n",
      "              precision    recall  f1-score   support\n",
      "\n",
      "           1       0.86      0.69      0.77        26\n",
      "           2       0.85      0.98      0.91        47\n",
      "           3       1.00      1.00      1.00        51\n",
      "           4       1.00      0.99      0.99       146\n",
      "\n",
      "    accuracy                           0.96       270\n",
      "   macro avg       0.93      0.91      0.92       270\n",
      "weighted avg       0.96      0.96      0.96       270\n",
      "\n",
      "MODEL -> HistGradinetBoostingClass2\n",
      "              precision    recall  f1-score   support\n",
      "\n",
      "           1       0.90      0.69      0.78        26\n",
      "           2       0.85      1.00      0.92        47\n",
      "           3       1.00      1.00      1.00        51\n",
      "           4       1.00      0.99      0.99       146\n",
      "\n",
      "    accuracy                           0.96       270\n",
      "   macro avg       0.94      0.92      0.92       270\n",
      "weighted avg       0.97      0.96      0.96       270\n",
      "\n",
      "MODEL -> ExtraTreeRegressor\n",
      "              precision    recall  f1-score   support\n",
      "\n",
      "           1       0.95      0.73      0.83        26\n",
      "           2       0.88      0.98      0.93        47\n",
      "           3       1.00      1.00      1.00        51\n",
      "           4       0.99      1.00      1.00       146\n",
      "\n",
      "    accuracy                           0.97       270\n",
      "   macro avg       0.96      0.93      0.94       270\n",
      "weighted avg       0.97      0.97      0.97       270\n",
      "\n",
      "MODEL -> neigbor\n",
      "              precision    recall  f1-score   support\n",
      "\n",
      "           1       0.73      0.73      0.73        26\n",
      "           2       0.85      0.87      0.86        47\n",
      "           3       1.00      1.00      1.00        51\n",
      "           4       1.00      0.99      1.00       146\n",
      "\n",
      "    accuracy                           0.95       270\n",
      "   macro avg       0.90      0.90      0.90       270\n",
      "weighted avg       0.95      0.95      0.95       270\n",
      "\n",
      "MODEL -> tree\n",
      "              precision    recall  f1-score   support\n",
      "\n",
      "           1       0.64      0.62      0.63        26\n",
      "           2       0.78      0.89      0.83        47\n",
      "           3       1.00      0.88      0.94        51\n",
      "           4       0.97      0.97      0.97       146\n",
      "\n",
      "    accuracy                           0.91       270\n",
      "   macro avg       0.85      0.84      0.84       270\n",
      "weighted avg       0.91      0.91      0.91       270\n",
      "\n"
     ]
    }
   ],
   "source": [
    "from sklearn.metrics import classification_report, confusion_matrix, accuracy_score\n",
    "\n",
    "for name, model in models.items():\n",
    "    y_pred = model.predict(X_test)\n",
    "    print(f\"MODEL -> {name}\")\n",
    "    print(classification_report(y_test,y_pred))"
   ]
  },
  {
   "cell_type": "markdown",
   "metadata": {},
   "source": [
    "> Pass them to spectogram "
   ]
  },
  {
   "cell_type": "code",
   "execution_count": null,
   "metadata": {},
   "outputs": [],
   "source": []
  },
  {
   "cell_type": "code",
   "execution_count": 39,
   "metadata": {},
   "outputs": [
    {
     "data": {
      "text/plain": [
       "'\\nfrom sklearn.metrics import roc_auc_score, roc_curve\\nimport matplotlib.pyplot as plt\\n\\nanalyzeModels = {\\n    name:model for name, model in models.items() if name in [\"RandomForest\",\"tree\",\"ExtraTreeRegressor\",\"DecisionTreeRegressor\" ,\"RandomForest600\"]\\n}\\n\\nplt.figure(figsize=(10,5))\\naucs = []\\nfor name, model in analyzeModels.items():\\n    y_scores = model.predict_proba(X_test)\\n    \\n    alive_scores = y_scores[:,1]\\n    \\n    # Extract AUC score\\n    auc = roc_auc_score(y_test, alive_scores)\\n    aucs.append(f\"AUC({name})={round(auc,2)}\")\\n    # Extract ROC curve\\n    fpr, tpr, thresholds = roc_curve(y_test, alive_scores, pos_label=1)\\n    plt.plot(fpr,tpr)\\n\\nplt.legend(aucs)\\n'"
      ]
     },
     "execution_count": 39,
     "metadata": {},
     "output_type": "execute_result"
    }
   ],
   "source": [
    "\"\"\"\n",
    "from sklearn.metrics import roc_auc_score, roc_curve\n",
    "import matplotlib.pyplot as plt\n",
    "\n",
    "analyzeModels = {\n",
    "    name:model for name, model in models.items() if name in [\"RandomForest\",\"tree\",\"ExtraTreeRegressor\",\"DecisionTreeRegressor\" ,\"RandomForest600\"]\n",
    "}\n",
    "\n",
    "plt.figure(figsize=(10,5))\n",
    "aucs = []\n",
    "for name, model in analyzeModels.items():\n",
    "    y_scores = model.predict_proba(X_test)\n",
    "    \n",
    "    alive_scores = y_scores[:,1]\n",
    "    \n",
    "    # Extract AUC score\n",
    "    auc = roc_auc_score(y_test, alive_scores)\n",
    "    aucs.append(f\"AUC({name})={round(auc,2)}\")\n",
    "    # Extract ROC curve\n",
    "    fpr, tpr, thresholds = roc_curve(y_test, alive_scores, pos_label=1)\n",
    "    plt.plot(fpr,tpr)\n",
    "\n",
    "plt.legend(aucs)\n",
    "\"\"\"\n"
   ]
  },
  {
   "cell_type": "markdown",
   "metadata": {},
   "source": [
    "## PREDICT  - Loop"
   ]
  },
  {
   "cell_type": "code",
   "execution_count": 40,
   "metadata": {},
   "outputs": [],
   "source": [
    "#le = preprocessing.LabelEncoder()\n",
    "#le.fit(y_pred)\n",
    "#y_pred = ({1: \"Cafe\", 2: \"Aspiradora\", 3: \"Thermomix\" , 4: \"lavadora\"})"
   ]
  },
  {
   "cell_type": "code",
   "execution_count": 29,
   "metadata": {},
   "outputs": [
    {
     "name": "stdout",
     "output_type": "stream",
     "text": [
      "* recording\n",
      "* done recording\n",
      "<pydub.audio_segment.AudioSegment object at 0x12e0551c0>\n",
      " El electrodomestico identificado es : aspiradora\n",
      "para o seguir: s\n",
      "* recording\n",
      "* done recording\n",
      "<pydub.audio_segment.AudioSegment object at 0x12e069a30>\n",
      " El electrodomestico identificado es : cafetera\n",
      "para o seguir: s\n",
      "* recording\n",
      "* done recording\n",
      "<pydub.audio_segment.AudioSegment object at 0x120fcabb0>\n",
      " El electrodomestico identificado es : aspiradora\n",
      "para o seguir: ss\n",
      "* recording\n",
      "* done recording\n",
      "<pydub.audio_segment.AudioSegment object at 0x120fca7c0>\n",
      " El electrodomestico identificado es : aspiradora\n",
      "para o seguir: s\n",
      "* recording\n",
      "* done recording\n",
      "<pydub.audio_segment.AudioSegment object at 0x120fca820>\n",
      " El electrodomestico identificado es : lavadora\n",
      "para o seguir: s\n",
      "* recording\n",
      "* done recording\n",
      "<pydub.audio_segment.AudioSegment object at 0x120fca5b0>\n",
      " El electrodomestico identificado es : aspiradora\n",
      "para o seguir: s\n",
      "* recording\n",
      "* done recording\n",
      "<pydub.audio_segment.AudioSegment object at 0x120fcabb0>\n",
      " El electrodomestico identificado es : lavadora\n",
      "para o seguir: s\n",
      "* recording\n",
      "* done recording\n",
      "<pydub.audio_segment.AudioSegment object at 0x12e055a60>\n",
      " El electrodomestico identificado es : aspiradora\n",
      "para o seguir: s\n",
      "* recording\n",
      "* done recording\n",
      "<pydub.audio_segment.AudioSegment object at 0x12e055a30>\n",
      " El electrodomestico identificado es : cafetera\n",
      "para o seguir: \n",
      "* recording\n",
      "* done recording\n",
      "<pydub.audio_segment.AudioSegment object at 0x12e0559d0>\n",
      " El electrodomestico identificado es : cafetera\n",
      "para o seguir: s\n",
      "* recording\n",
      "* done recording\n",
      "<pydub.audio_segment.AudioSegment object at 0x120fca610>\n",
      " El electrodomestico identificado es : aspiradora\n",
      "para o seguir: s\n",
      "* recording\n",
      "* done recording\n",
      "<pydub.audio_segment.AudioSegment object at 0x120fca4f0>\n",
      " El electrodomestico identificado es : cafetera\n",
      "para o seguir: s\n",
      "* recording\n",
      "* done recording\n",
      "<pydub.audio_segment.AudioSegment object at 0x120fcab20>\n",
      " El electrodomestico identificado es : cafetera\n",
      "para o seguir: s\n",
      "* recording\n",
      "* done recording\n",
      "<pydub.audio_segment.AudioSegment object at 0x10a9f5a00>\n",
      " El electrodomestico identificado es : cafetera\n",
      "para o seguir: s\n",
      "* recording\n",
      "* done recording\n",
      "<pydub.audio_segment.AudioSegment object at 0x120fe58b0>\n",
      " El electrodomestico identificado es : cafetera\n",
      "para o seguir: s\n",
      "* recording\n",
      "* done recording\n",
      "<pydub.audio_segment.AudioSegment object at 0x120fe5d60>\n",
      " El electrodomestico identificado es : aspiradora\n",
      "para o seguir: s\n",
      "* recording\n",
      "* done recording\n",
      "<pydub.audio_segment.AudioSegment object at 0x120fe5580>\n",
      " El electrodomestico identificado es : aspiradora\n",
      "para o seguir: s\n",
      "* recording\n",
      "* done recording\n",
      "<pydub.audio_segment.AudioSegment object at 0x10aa07eb0>\n",
      " El electrodomestico identificado es : cafetera\n",
      "para o seguir: s\n",
      "* recording\n",
      "* done recording\n",
      "<pydub.audio_segment.AudioSegment object at 0x123587100>\n",
      " El electrodomestico identificado es : aspiradora\n",
      "para o seguir: s\n",
      "* recording\n",
      "* done recording\n",
      "<pydub.audio_segment.AudioSegment object at 0x123587190>\n",
      " El electrodomestico identificado es : cafetera\n",
      "para o seguir: s\n",
      "* recording\n",
      "* done recording\n",
      "<pydub.audio_segment.AudioSegment object at 0x123587730>\n",
      " El electrodomestico identificado es : cafetera\n",
      "para o seguir: s\n",
      "* recording\n",
      "* done recording\n",
      "<pydub.audio_segment.AudioSegment object at 0x123587490>\n",
      " El electrodomestico identificado es : cafetera\n",
      "para o seguir: s\n",
      "* recording\n",
      "* done recording\n",
      "<pydub.audio_segment.AudioSegment object at 0x12e055850>\n",
      " El electrodomestico identificado es : cafetera\n",
      "para o seguir: s\n",
      "* recording\n",
      "* done recording\n",
      "<pydub.audio_segment.AudioSegment object at 0x10b957bb0>\n",
      " El electrodomestico identificado es : cafetera\n",
      "para o seguir: s\n",
      "* recording\n",
      "* done recording\n",
      "<pydub.audio_segment.AudioSegment object at 0x12e055b20>\n",
      " El electrodomestico identificado es : lavadora\n",
      "para o seguir: s\n",
      "* recording\n",
      "* done recording\n",
      "<pydub.audio_segment.AudioSegment object at 0x120fe5340>\n",
      " El electrodomestico identificado es : cafetera\n",
      "para o seguir: s\n",
      "* recording\n",
      "* done recording\n",
      "<pydub.audio_segment.AudioSegment object at 0x120fe5a60>\n",
      " El electrodomestico identificado es : cafetera\n",
      "para o seguir: s\n",
      "* recording\n",
      "* done recording\n",
      "<pydub.audio_segment.AudioSegment object at 0x120fe5fa0>\n",
      " El electrodomestico identificado es : cafetera\n",
      "para o seguir: s\n",
      "* recording\n",
      "* done recording\n",
      "<pydub.audio_segment.AudioSegment object at 0x120fe58b0>\n",
      " El electrodomestico identificado es : cafetera\n",
      "para o seguir: s\n",
      "* recording\n",
      "* done recording\n",
      "<pydub.audio_segment.AudioSegment object at 0x120fe50a0>\n",
      " El electrodomestico identificado es : cafetera\n",
      "para o seguir: para\n"
     ]
    }
   ],
   "source": [
    "while True:\n",
    "    result={1:'cafetera',2:'lavadora',3:'aspiradora',4:'thermomix'}\n",
    "    CHUNK = 5000\n",
    "    FORMAT = pyaudio.paInt16\n",
    "    CHANNELS = 1\n",
    "    RATE = 16000\n",
    "    RECORD_SECONDS = 5\n",
    "    WAVE_OUTPUT_FILENAME = (\"record/prueba_silencio.wav\")\n",
    "    y_pref_sol=[]\n",
    "    p = pyaudio.PyAudio()\n",
    "\n",
    "    stream = p.open(format=FORMAT,\n",
    "                    channels=CHANNELS,\n",
    "                    rate=RATE,\n",
    "                    input=True,\n",
    "                    frames_per_buffer=CHUNK)\n",
    "\n",
    "    print(\"* recording\")\n",
    "\n",
    "    frames = []\n",
    "\n",
    "    for i in range(0, int(16000 / 5000 * 5)):\n",
    "        data = stream.read(5000)\n",
    "        frames.append(data)\n",
    "\n",
    "\n",
    "    print(\"* done recording\")\n",
    "\n",
    "    stream.stop_stream()\n",
    "    stream.close()\n",
    "    p.terminate()\n",
    "\n",
    "    wf = wave.open(WAVE_OUTPUT_FILENAME, 'wb')\n",
    "    wf.setnchannels(CHANNELS)\n",
    "    wf.setsampwidth(p.get_sample_size(FORMAT))\n",
    "    wf.setframerate(RATE)\n",
    "    wf.writeframes(b''.join(frames))\n",
    "    wf.close()\n",
    "    cafe_prueba = AudioSegment.from_file(\"./record/prueba_silencio.wav\")\n",
    "    cafe_change_hz = cafe_prueba.set_frame_rate(16000)\n",
    "    chunks=make_chunks(cafe_change_hz, 5000)\n",
    "    cafe_tf = [audioFeaturesFourie(x) for x in chunks]\n",
    "    cafe_prueba2=np.array(cafe_tf)\n",
    "    cafe_prueba2.shape\n",
    "    npcafe = np.array(cafe_tf)   \n",
    "    print(cafe_prueba)\n",
    "    model =  ExtraTreesClassifier()\n",
    "    model.fit(X,y)\n",
    "    y_pred=model.predict(cafe_prueba2)\n",
    "    y_pref_sol.append(y_pred)\n",
    "    \n",
    "    print(f\" El electrodomestico identificado es : {result[int(y_pref_sol[-1])]}\")\n",
    "    orden=input('para o seguir: ')\n",
    "    \n",
    "    if orden =='para':\n",
    "        break"
   ]
  },
  {
   "cell_type": "code",
   "execution_count": null,
   "metadata": {},
   "outputs": [],
   "source": []
  }
 ],
 "metadata": {
  "kernelspec": {
   "display_name": "Python 3",
   "language": "python",
   "name": "python3"
  },
  "language_info": {
   "codemirror_mode": {
    "name": "ipython",
    "version": 3
   },
   "file_extension": ".py",
   "mimetype": "text/x-python",
   "name": "python",
   "nbconvert_exporter": "python",
   "pygments_lexer": "ipython3",
   "version": "3.8.2"
  }
 },
 "nbformat": 4,
 "nbformat_minor": 4
}
